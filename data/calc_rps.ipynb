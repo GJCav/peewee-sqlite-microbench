{
 "cells": [
  {
   "cell_type": "code",
   "execution_count": 2,
   "metadata": {},
   "outputs": [],
   "source": [
    "import json\n",
    "import os\n",
    "import os.path\n",
    "import pandas as pd"
   ]
  },
  {
   "cell_type": "code",
   "execution_count": 11,
   "metadata": {},
   "outputs": [
    {
     "name": "stdout",
     "output_type": "stream",
     "text": [
      "|   Sample Count \\ RPS | time_sample_inst_1b1   | time_sample_inst_1b1_tsc   | time_sample_inst_1b1_wal   | time_sample_inst_1b1_wal_tsc   | time_sample_inst_blk   | time_sample_inst_wal_blkjson   |\n",
      "|---------------------:|:-----------------------|:---------------------------|:---------------------------|:-------------------------------|:-----------------------|:-------------------------------|\n",
      "|                  100 | 153.9 (0.6 s)          | 6328.8 (0.0 s)             | 498.8 (0.2 s)              | 9793.2 (0.0 s)                 | 12189.2 (0.0 s)        | 40469.4 (0.0 s)                |\n",
      "|                 1000 | TIMEOUT                | 12589.3 (0.1 s)            | 497.4 (2.0 s)              | 13482.8 (0.1 s)                | 54946.3 (0.0 s)        | 227241.7 (0.0 s)               |\n",
      "|                10000 | TIMEOUT                | 13875.0 (0.7 s)            | TIMEOUT                    | 13960.7 (0.7 s)                | 91620.1 (0.1 s)        | 365874.2 (0.0 s)               |\n",
      "|               100000 | TIMEOUT                | TIMEOUT                    | TIMEOUT                    | TIMEOUT                        | 86441.1 (1.2 s)        | 332334.6 (0.3 s)               |\n"
     ]
    }
   ],
   "source": [
    "# Sample Insertion\n",
    "data = json.load(open(r\"Sample Insertion.json\"))\n",
    "sample_counts = [e['sample_count'] for e in data['options']]\n",
    "methods = {} # methods[<method>][<sample_count>] = [RPS values]\n",
    "for method in data['results']:\n",
    "    methods[method] = {}\n",
    "    for i, sample_count in enumerate(sample_counts):\n",
    "        rst = data['results'][method][i]\n",
    "        rst = filter(lambda x: x is not None and x >= 0, rst)\n",
    "        methods[method][sample_count] = methods[method].get(sample_count, [])\n",
    "        methods[method][sample_count].extend(rst)\n",
    "\n",
    "for method in methods:\n",
    "    for sample_count in methods[method]:\n",
    "        rst = methods[method][sample_count]\n",
    "        if len(rst) == 0:\n",
    "            methods[method][sample_count] = 'TIMEOUT'\n",
    "        elif sum(rst) == 0:\n",
    "            methods[method][sample_count] = 'INF'\n",
    "        else:\n",
    "            avg = sum(rst) / len(rst)\n",
    "            rps = sample_count / avg\n",
    "            methods[method][sample_count] = f\"{rps:.1f} ({avg:.1f} s)\"\n",
    "\n",
    "# print as table\n",
    "df = pd.DataFrame(methods)\n",
    "df.rename_axis('Sample Count \\\\ RPS', inplace=True)\n",
    "df.drop(columns=['time_sample_generation'], inplace=True)\n",
    "md_table = df.to_markdown(floatfmt=\".1f\")\n",
    "print(md_table)"
   ]
  },
  {
   "cell_type": "code",
   "execution_count": 17,
   "metadata": {},
   "outputs": [
    {
     "name": "stdout",
     "output_type": "stream",
     "text": [
      "|   Result Count | time_rst_inst_sql   | time_rst_inst_sql_wal   |\n",
      "|---------------:|:--------------------|:------------------------|\n",
      "|         4950.0 | 354747.2 (0.0 s)    | 408807.1 (0.0 s)        |\n",
      "|        19900.0 | 556475.2 (0.0 s)    | 571218.6 (0.0 s)        |\n",
      "|        44850.0 | 555178.7 (0.1 s)    | 601393.5 (0.1 s)        |\n",
      "|        79800.0 | 600041.5 (0.1 s)    | 540840.9 (0.1 s)        |\n",
      "|       124750.0 | 612193.6 (0.2 s)    | 439438.8 (0.3 s)        |\n",
      "|       179700.0 | 597780.5 (0.3 s)    | 456027.0 (0.4 s)        |\n",
      "|       244650.0 | 610217.8 (0.4 s)    | 451484.7 (0.5 s)        |\n",
      "|       319600.0 | 598742.0 (0.5 s)    | 432308.7 (0.7 s)        |\n",
      "|       404550.0 | 261878.8 (1.5 s)    | 248389.2 (1.6 s)        |\n",
      "|       499500.0 | 199371.1 (2.5 s)    | 186666.5 (2.7 s)        |\n",
      "|       604450.0 | 169896.9 (3.6 s)    | 159021.0 (3.8 s)        |\n",
      "|       719400.0 | 154525.9 (4.7 s)    | 141470.0 (5.1 s)        |\n",
      "|       844350.0 | 141343.6 (6.0 s)    | 126209.7 (6.7 s)        |\n"
     ]
    }
   ],
   "source": [
    "# Sample Insertion\n",
    "data = json.load(open(r\"Result Insertion SQL.json\"))\n",
    "sample_counts = [e['sample_count'] for e in data['options']]\n",
    "methods = {} # methods[<method>][<sample_count>] = [RPS values]\n",
    "for method in data['results']:\n",
    "    methods[method] = {}\n",
    "    for i, sample_count in enumerate(sample_counts):\n",
    "        scale = sample_count * (sample_count - 1) / 2\n",
    "        rst = data['results'][method][i]\n",
    "        rst = filter(lambda x: x is not None and x >= 0, rst)\n",
    "        methods[method][scale] = methods[method].get(sample_count, [])\n",
    "        methods[method][scale].extend(rst)\n",
    "\n",
    "for method in methods:\n",
    "    for scale in methods[method]:\n",
    "        rst = methods[method][scale]\n",
    "        if len(rst) == 0:\n",
    "            methods[method][scale] = 'TIMEOUT'\n",
    "        elif sum(rst) == 0:\n",
    "            methods[method][scale] = 'INF'\n",
    "        else:\n",
    "            avg = sum(rst) / len(rst)\n",
    "            rps = scale / avg\n",
    "            methods[method][scale] = f\"{rps:.1f} ({avg:.1f} s)\"\n",
    "\n",
    "# print as table\n",
    "df = pd.DataFrame(methods)\n",
    "df.rename_axis('Result Count', inplace=True)\n",
    "cols = df.columns.tolist()\n",
    "# cols[1], cols[2] = cols[2], cols[1]\n",
    "df = df[cols]\n",
    "md_table = df.to_markdown(floatfmt=\".1f\")\n",
    "print(md_table)"
   ]
  },
  {
   "cell_type": "code",
   "execution_count": 20,
   "metadata": {},
   "outputs": [],
   "source": [
    "# Query RPS\n",
    "data = json.load(open(r\"Result Query (JNL).json\"))\n",
    "qry_count = [e['qry_count'] for e in data['options']]\n",
    "methods = {} # methods[<method>][<sample_count>] = [RPS values]\n",
    "for method in data['results']:\n",
    "    methods[method] = {}\n",
    "    for i, query_count in enumerate(qry_count):\n",
    "        rst = data['results'][method][i]\n",
    "        rst = filter(lambda x: x is not None and x >= 0, rst)\n",
    "        methods[method][query_count] = methods[method].get(query_count, [])\n",
    "        methods[method][query_count].extend(rst)\n",
    "\n",
    "for method in methods:\n",
    "    for scale in methods[method]:\n",
    "        rst = methods[method][scale]\n",
    "        if len(rst) == 0:\n",
    "            methods[method][scale] = 'TIMEOUT'\n",
    "        elif sum(rst) == 0:\n",
    "            methods[method][scale] = 'INF'\n",
    "        else:\n",
    "            avg = sum(rst) / len(rst)\n",
    "            rps = scale / avg\n",
    "            methods[method][scale] = f\"{rps:.1f} ({avg:.1f} s)\"\n",
    "\n",
    "df1 = pd.DataFrame(methods)"
   ]
  },
  {
   "cell_type": "code",
   "execution_count": 22,
   "metadata": {},
   "outputs": [
    {
     "name": "stdout",
     "output_type": "stream",
     "text": [
      "|   Query Count | time_qry_1b1   | time_qry_blkjson   | time_qry_idset   | time_qry_1b1   | time_qry_blkjson   | time_qry_idset   |\n",
      "|--------------:|:---------------|:-------------------|:-----------------|:---------------|:-------------------|:-----------------|\n",
      "|           100 | 3936.8 (0.0 s) | 49980.0 (0.0 s)    | 99147.3 (0.0 s)  | 4746.2 (0.0 s) | 55549.4 (0.0 s)    | 71428.6 (0.0 s)  |\n",
      "|          1000 | 4077.2 (0.2 s) | 87725.5 (0.0 s)    | 166666.7 (0.0 s) | 5065.9 (0.2 s) | 82861.0 (0.0 s)    | 166800.1 (0.0 s) |\n",
      "|          2000 | 4116.4 (0.5 s) | 92591.7 (0.0 s)    | 188686.4 (0.0 s) | 5009.2 (0.4 s) | 94344.1 (0.0 s)    | 201373.4 (0.0 s) |\n",
      "|          4000 | 3973.5 (1.0 s) | 94552.8 (0.0 s)    | 215070.0 (0.0 s) | 4946.8 (0.8 s) | 95553.0 (0.0 s)    | 223314.0 (0.0 s) |\n",
      "|          8000 | 4029.9 (2.0 s) | 96619.1 (0.1 s)    | 208464.7 (0.0 s) | 4996.4 (1.6 s) | 97730.0 (0.1 s)    | 216231.4 (0.0 s) |\n",
      "|         10000 | 4084.7 (2.4 s) | 98878.3 (0.1 s)    | 221999.2 (0.0 s) | 5017.7 (2.0 s) | 96509.4 (0.1 s)    | 208531.4 (0.0 s) |\n",
      "|         11000 | 4078.2 (2.7 s) | 99220.8 (0.1 s)    | 220002.6 (0.0 s) | 5020.6 (2.2 s) | 97943.9 (0.1 s)    | 210575.5 (0.1 s) |\n",
      "|         12000 | 4141.0 (2.9 s) | 98586.4 (0.1 s)    | 205541.4 (0.1 s) | 5039.6 (2.4 s) | 97616.7 (0.1 s)    | 207652.7 (0.1 s) |\n",
      "|         13000 | 4157.3 (3.1 s) | 98206.0 (0.1 s)    | 210088.8 (0.1 s) | 5050.9 (2.6 s) | 98848.6 (0.1 s)    | 208302.6 (0.1 s) |\n",
      "|         14000 | 4217.2 (3.3 s) | 98754.8 (0.1 s)    | 211585.2 (0.1 s) | 4890.7 (2.9 s) | 97996.7 (0.1 s)    | 217852.7 (0.1 s) |\n"
     ]
    }
   ],
   "source": [
    "data = json.load(open(r\"Result Query (WAL).json\"))\n",
    "qry_count = [e['qry_count'] for e in data['options']]\n",
    "methods = {} # methods[<method>][<sample_count>] = [RPS values]\n",
    "for method in data['results']:\n",
    "    methods[method] = {}\n",
    "    for i, query_count in enumerate(qry_count):\n",
    "        rst = data['results'][method][i]\n",
    "        rst = filter(lambda x: x is not None and x >= 0, rst)\n",
    "        methods[method][query_count] = methods[method].get(query_count, [])\n",
    "        methods[method][query_count].extend(rst)\n",
    "\n",
    "for method in methods:\n",
    "    for scale in methods[method]:\n",
    "        rst = methods[method][scale]\n",
    "        if len(rst) == 0:\n",
    "            methods[method][scale] = 'TIMEOUT'\n",
    "        elif sum(rst) == 0:\n",
    "            methods[method][scale] = 'INF'\n",
    "        else:\n",
    "            avg = sum(rst) / len(rst)\n",
    "            rps = scale / avg\n",
    "            methods[method][scale] = f\"{rps:.1f} ({avg:.1f} s)\"\n",
    "\n",
    "df2 = pd.DataFrame(methods)\n",
    "df = pd.concat([df1, df2], axis=1)\n",
    "df.rename_axis('Query Count', inplace=True)\n",
    "md_table = df.to_markdown(floatfmt=\".1f\")\n",
    "print(md_table)"
   ]
  }
 ],
 "metadata": {
  "kernelspec": {
   "display_name": "Python 3",
   "language": "python",
   "name": "python3"
  },
  "language_info": {
   "codemirror_mode": {
    "name": "ipython",
    "version": 3
   },
   "file_extension": ".py",
   "mimetype": "text/x-python",
   "name": "python",
   "nbconvert_exporter": "python",
   "pygments_lexer": "ipython3",
   "version": "3.12.5"
  }
 },
 "nbformat": 4,
 "nbformat_minor": 2
}
