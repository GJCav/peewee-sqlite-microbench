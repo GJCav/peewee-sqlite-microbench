{
 "cells": [
  {
   "cell_type": "code",
   "execution_count": 18,
   "metadata": {},
   "outputs": [],
   "source": [
    "import json\n",
    "import os\n",
    "import os.path\n",
    "import pandas as pd"
   ]
  },
  {
   "cell_type": "code",
   "execution_count": 38,
   "metadata": {},
   "outputs": [
    {
     "name": "stdout",
     "output_type": "stream",
     "text": [
      "|   Sample Count \\ RPS | time_sample_inst_1b1   | time_sample_inst_1b1_tsc   | time_sample_inst_1b1_wal   | time_sample_inst_1b1_wal_tsc   |   time_sample_inst_blk |   time_sample_inst_wal_blkjson |\n",
      "|---------------------:|:-----------------------|:---------------------------|:---------------------------|:-------------------------------|-----------------------:|-------------------------------:|\n",
      "|                  100 | 153.9                  | 6328.8                     | 498.8                      | 9793.2                         |                12189.2 |                        40469.4 |\n",
      "|                 1000 | TIMEOUT                | 12589.3                    | 497.4                      | 13482.8                        |                54946.3 |                       227241.7 |\n",
      "|                10000 | TIMEOUT                | 13875.0                    | TIMEOUT                    | 13960.7                        |                91620.1 |                       365874.2 |\n",
      "|               100000 | TIMEOUT                | TIMEOUT                    | TIMEOUT                    | TIMEOUT                        |                86441.1 |                       332334.6 |\n"
     ]
    }
   ],
   "source": [
    "# Sample Insertion\n",
    "data = json.load(open(r\"Sample Insertion.json\"))\n",
    "sample_counts = [e['sample_count'] for e in data['options']]\n",
    "methods = {} # methods[<method>][<sample_count>] = [RPS values]\n",
    "for method in data['results']:\n",
    "    methods[method] = {}\n",
    "    for i, sample_count in enumerate(sample_counts):\n",
    "        rst = data['results'][method][i]\n",
    "        rst = filter(lambda x: x is not None and x >= 0, rst)\n",
    "        methods[method][sample_count] = methods[method].get(sample_count, [])\n",
    "        methods[method][sample_count].extend(rst)\n",
    "\n",
    "for method in methods:\n",
    "    for sample_count in methods[method]:\n",
    "        rst = methods[method][sample_count]\n",
    "        if len(rst) == 0:\n",
    "            methods[method][sample_count] = 'TIMEOUT'\n",
    "        elif sum(rst) == 0:\n",
    "            methods[method][sample_count] = 'INF'\n",
    "        else:\n",
    "            avg = sum(rst) / len(rst)\n",
    "            rps = sample_count / avg\n",
    "            methods[method][sample_count] = f\"{rps:.1f}\"\n",
    "\n",
    "# print as table\n",
    "df = pd.DataFrame(methods)\n",
    "df.rename_axis('Sample Count \\\\ RPS', inplace=True)\n",
    "df.drop(columns=['time_sample_generation'], inplace=True)\n",
    "md_table = df.to_markdown(floatfmt=\".1f\")\n",
    "print(md_table)"
   ]
  },
  {
   "cell_type": "code",
   "execution_count": 41,
   "metadata": {},
   "outputs": [
    {
     "name": "stdout",
     "output_type": "stream",
     "text": [
      "|   Result Count \\ RPS | time_rst_inst_1b1   | time_rst_inst_1b1_wal   |   time_rst_inst_1b1_tsc |\n",
      "|---------------------:|:--------------------|:------------------------|------------------------:|\n",
      "|                 45.0 | 138.7               | 479.7                   |                  3845.6 |\n",
      "|                435.0 | TIMEOUT             | 494.7                   |                  8805.7 |\n",
      "|               1225.0 | TIMEOUT             | 494.8                   |                  9919.7 |\n",
      "|               2415.0 | TIMEOUT             | TIMEOUT                 |                  9890.0 |\n",
      "|               4005.0 | TIMEOUT             | TIMEOUT                 |                 10282.4 |\n"
     ]
    }
   ],
   "source": [
    "# Sample Insertion\n",
    "data = json.load(open(r\"Result Insertion Slow.json\"))\n",
    "sample_counts = [e['sample_count'] for e in data['options']]\n",
    "methods = {} # methods[<method>][<sample_count>] = [RPS values]\n",
    "for method in data['results']:\n",
    "    methods[method] = {}\n",
    "    for i, sample_count in enumerate(sample_counts):\n",
    "        scale = sample_count * (sample_count - 1) / 2\n",
    "        rst = data['results'][method][i]\n",
    "        rst = filter(lambda x: x is not None and x >= 0, rst)\n",
    "        methods[method][scale] = methods[method].get(sample_count, [])\n",
    "        methods[method][scale].extend(rst)\n",
    "\n",
    "for method in methods:\n",
    "    for scale in methods[method]:\n",
    "        rst = methods[method][scale]\n",
    "        if len(rst) == 0:\n",
    "            methods[method][scale] = 'TIMEOUT'\n",
    "        elif sum(rst) == 0:\n",
    "            methods[method][scale] = 'INF'\n",
    "        else:\n",
    "            avg = sum(rst) / len(rst)\n",
    "            rps = scale / avg\n",
    "            methods[method][scale] = f\"{rps:.1f}\"\n",
    "\n",
    "# print as table\n",
    "df = pd.DataFrame(methods)\n",
    "df.rename_axis('Result Count \\\\ RPS', inplace=True)\n",
    "cols = df.columns.tolist()\n",
    "cols[1], cols[2] = cols[2], cols[1]\n",
    "df = df[cols]\n",
    "md_table = df.to_markdown(floatfmt=\".1f\")\n",
    "print(md_table)"
   ]
  },
  {
   "cell_type": "code",
   "execution_count": 53,
   "metadata": {},
   "outputs": [
    {
     "name": "stdout",
     "output_type": "stream",
     "text": [
      "|   Result Count \\ RPS |   time_rst_inst_sql |   time_rst_inst_sql_wal |\n",
      "|---------------------:|--------------------:|------------------------:|\n",
      "|               4950.0 |            354747.2 |                408807.1 |\n",
      "|              19900.0 |            556475.2 |                571218.6 |\n",
      "|              44850.0 |            555178.7 |                601393.5 |\n",
      "|              79800.0 |            600041.5 |                540840.9 |\n",
      "|             124750.0 |            612193.6 |                439438.8 |\n",
      "|             179700.0 |            597780.5 |                456027.0 |\n",
      "|             244650.0 |            610217.8 |                451484.7 |\n",
      "|             319600.0 |            598742.0 |                432308.7 |\n",
      "|             404550.0 |            261878.8 |                248389.2 |\n",
      "|             499500.0 |            199371.1 |                186666.5 |\n",
      "|             604450.0 |            169896.9 |                159021.0 |\n",
      "|             719400.0 |            154525.9 |                141470.0 |\n",
      "|             844350.0 |            141343.6 |                126209.7 |\n"
     ]
    }
   ],
   "source": [
    "# Sample Insertion\n",
    "data = json.load(open(r\"Result Insertion SQL.json\"))\n",
    "sample_counts = [e['sample_count'] for e in data['options']]\n",
    "methods = {} # methods[<method>][<sample_count>] = [RPS values]\n",
    "for method in data['results']:\n",
    "    methods[method] = {}\n",
    "    for i, sample_count in enumerate(sample_counts):\n",
    "        scale = sample_count * (sample_count - 1) / 2\n",
    "        rst = data['results'][method][i]\n",
    "        rst = filter(lambda x: x is not None and x >= 0, rst)\n",
    "        methods[method][scale] = methods[method].get(sample_count, [])\n",
    "        methods[method][scale].extend(rst)\n",
    "\n",
    "for method in methods:\n",
    "    for scale in methods[method]:\n",
    "        rst = methods[method][scale]\n",
    "        if len(rst) == 0:\n",
    "            methods[method][scale] = 'TIMEOUT'\n",
    "        elif sum(rst) == 0:\n",
    "            methods[method][scale] = 'INF'\n",
    "        else:\n",
    "            avg = sum(rst) / len(rst)\n",
    "            rps = scale / avg\n",
    "            methods[method][scale] = f\"{rps:.1f}\"\n",
    "\n",
    "# print as table\n",
    "df = pd.DataFrame(methods)\n",
    "df.rename_axis('Result Count \\\\ RPS', inplace=True)\n",
    "# df.drop(columns=['time_rst_gen'], inplace=True)\n",
    "# cols = df.columns.tolist()\n",
    "# cols[1], cols[2] = cols[2], cols[1]\n",
    "# df = df[cols]\n",
    "md_table = df.to_markdown(floatfmt=\".1f\")\n",
    "print(md_table)"
   ]
  }
 ],
 "metadata": {
  "kernelspec": {
   "display_name": "Python 3",
   "language": "python",
   "name": "python3"
  },
  "language_info": {
   "codemirror_mode": {
    "name": "ipython",
    "version": 3
   },
   "file_extension": ".py",
   "mimetype": "text/x-python",
   "name": "python",
   "nbconvert_exporter": "python",
   "pygments_lexer": "ipython3",
   "version": "3.12.5"
  }
 },
 "nbformat": 4,
 "nbformat_minor": 2
}
